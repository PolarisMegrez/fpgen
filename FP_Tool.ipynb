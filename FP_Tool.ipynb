{
 "cells": [
  {
   "cell_type": "markdown",
   "id": "c77689ac",
   "metadata": {},
   "source": [
    "# Fokker-Planck tool (operator expression → normal/flux form)\n",
    "\n",
    "Enter a restricted LaTeX-like operator expression with exactly one `\\rho`, and get the Fokker–Planck operator tuples (and/or a readable LaTeX-like form).\n",
    "\n",
    "- Modes: latin letters `a,b,c,...` denote independent modes; `^{\\dagger}` (also `^{+}` or `^{*}`) denotes creation.\n",
    "- Powers are supported, e.g., `a^{2}`, `a^{\\dagger 3}`; parentheses group without changing the left-to-right order.\n",
    "- Wigner/P/Q representations via Cahill–Glauber s-ordering:\n",
    "  - Choose by `s ∈ [-1,1]` (continuous), or by representation name: `Wigner`, `P` (aliases: Glauber, Glauber P, Glauber-Sudarshan), `Q` (aliases: Husimi, Husimi Q).\n",
    "  - Default is Wigner (s=0). If both `s` and `representation` are provided, `s` takes precedence and a warning is shown.\n",
    "- Output tuples per mode: `(m, n, i, j)` correspond to `(∂/∂α)^m (∂/∂α*)^n α^i (α*)^j`.\n",
    "- Sorting: lexicographic ascending by exponent tuples, ignoring coefficients.\n"
   ]
  },
  {
   "cell_type": "code",
   "execution_count": null,
   "id": "0bda41b5",
   "metadata": {},
   "outputs": [],
   "source": [
    "from fpgen import opr2fp\n",
    "\n",
    "# Minimal examples\n",
    "examples = [\n",
    "    \"a^{\\\\dagger} \\\\rho a\",\n",
    "    \"2 a^{2} \\\\rho a^{\\\\dagger 2} - a^{\\\\dagger 2} a^{2} \\\\rho - \\\\rho a^{\\\\dagger 2} a^{2}\",\n",
    "]\n",
    "\n",
    "# Default (Wigner, flux) readable + tuples\n",
    "for expr in examples:\n",
    "    print(\"==== Expr:\", expr)\n",
    "    print(opr2fp(expr, output_style='both', output_format='flux'))\n",
    "\n",
    "# Select representation by name (P, Q) and by s parameter\n",
    "print(\"\\n-- P representation --\")\n",
    "print(opr2fp(\"a^{\\\\dagger} \\\\rho a\", representation='Glauber-Sudarshan', output_style='both'))\n",
    "\n",
    "print(\"\\n-- Q representation --\")\n",
    "print(opr2fp(\"a^{\\\\dagger} \\\\rho a\", representation='Husimi Q', output_style='both'))\n",
    "\n",
    "print(\"\\n-- s=+1 overrides representation='Q' --\")\n",
    "print(opr2fp(\"a^{\\\\dagger} \\\\rho a\", s=1.0, representation='Q', output_style='both'))"
   ]
  }
 ],
 "metadata": {
  "kernelspec": {
   "display_name": "Python 3",
   "language": "python",
   "name": "python3"
  },
  "language_info": {
   "codemirror_mode": {
    "name": "ipython",
    "version": 3
   },
   "file_extension": ".py",
   "mimetype": "text/x-python",
   "name": "python",
   "nbconvert_exporter": "python",
   "pygments_lexer": "ipython3",
   "version": "3.12.0"
  }
 },
 "nbformat": 4,
 "nbformat_minor": 5
}
